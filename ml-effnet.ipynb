{
 "cells": [
  {
   "cell_type": "code",
   "execution_count": 1,
   "metadata": {
    "_cell_guid": "b1076dfc-b9ad-4769-8c92-a6c4dae69d19",
    "_uuid": "8f2839f25d086af736a60e9eeb907d3b93b6e0e5",
    "execution": {
     "iopub.execute_input": "2021-02-24T16:33:41.515861Z",
     "iopub.status.busy": "2021-02-24T16:33:41.515063Z",
     "iopub.status.idle": "2021-02-24T16:33:47.241727Z",
     "shell.execute_reply": "2021-02-24T16:33:47.241009Z"
    },
    "papermill": {
     "duration": 5.74159,
     "end_time": "2021-02-24T16:33:47.241919",
     "exception": false,
     "start_time": "2021-02-24T16:33:41.500329",
     "status": "completed"
    },
    "tags": []
   },
   "outputs": [],
   "source": [
    "import os\n",
    "\n",
    "# import efficientnet.tfkeras as efn\n",
    "import pandas as pd\n",
    "import numpy as np\n",
    "from kaggle_datasets import KaggleDatasets\n",
    "from sklearn.model_selection import train_test_split\n",
    "import tensorflow as tf\n",
    "import tensorflow.keras.applications.efficientnet as efn"
   ]
  },
  {
   "cell_type": "code",
   "execution_count": 2,
   "metadata": {
    "execution": {
     "iopub.execute_input": "2021-02-24T16:33:47.267082Z",
     "iopub.status.busy": "2021-02-24T16:33:47.266430Z",
     "iopub.status.idle": "2021-02-24T16:33:47.532613Z",
     "shell.execute_reply": "2021-02-24T16:33:47.532199Z"
    },
    "papermill": {
     "duration": 0.280968,
     "end_time": "2021-02-24T16:33:47.532732",
     "exception": false,
     "start_time": "2021-02-24T16:33:47.251764",
     "status": "completed"
    },
    "tags": []
   },
   "outputs": [
    {
     "ename": "NameError",
     "evalue": "name 'auto_select_accelerator' is not defined",
     "output_type": "error",
     "traceback": [
      "\u001b[0;31m---------------------------------------------------------------------------\u001b[0m",
      "\u001b[0;31mNameError\u001b[0m                                 Traceback (most recent call last)",
      "\u001b[0;32m<ipython-input-2-d3830865dddb>\u001b[0m in \u001b[0;36m<module>\u001b[0;34m\u001b[0m\n\u001b[0;32m----> 1\u001b[0;31m \u001b[0mauto_select_accelerator\u001b[0m\u001b[0;34m(\u001b[0m\u001b[0;34m)\u001b[0m\u001b[0;34m\u001b[0m\u001b[0;34m\u001b[0m\u001b[0m\n\u001b[0m\u001b[1;32m      2\u001b[0m \u001b[0;34m\u001b[0m\u001b[0m\n\u001b[1;32m      3\u001b[0m \u001b[0mbuild_decoder\u001b[0m\u001b[0;34m(\u001b[0m\u001b[0mwith_labels\u001b[0m\u001b[0;34m=\u001b[0m\u001b[0;32mTrue\u001b[0m\u001b[0;34m,\u001b[0m \u001b[0mtarget_size\u001b[0m\u001b[0;34m=\u001b[0m\u001b[0;34m(\u001b[0m\u001b[0;36m256\u001b[0m\u001b[0;34m,\u001b[0m \u001b[0;36m256\u001b[0m\u001b[0;34m)\u001b[0m\u001b[0;34m,\u001b[0m \u001b[0mext\u001b[0m\u001b[0;34m=\u001b[0m\u001b[0;34m'jpg'\u001b[0m\u001b[0;34m)\u001b[0m\u001b[0;34m\u001b[0m\u001b[0;34m\u001b[0m\u001b[0m\n\u001b[1;32m      4\u001b[0m \u001b[0;34m\u001b[0m\u001b[0m\n\u001b[1;32m      5\u001b[0m \u001b[0mbuild_augmenter\u001b[0m\u001b[0;34m(\u001b[0m\u001b[0mwith_labels\u001b[0m\u001b[0;34m=\u001b[0m\u001b[0;32mTrue\u001b[0m\u001b[0;34m)\u001b[0m\u001b[0;34m\u001b[0m\u001b[0;34m\u001b[0m\u001b[0m\n",
      "\u001b[0;31mNameError\u001b[0m: name 'auto_select_accelerator' is not defined"
     ]
    }
   ],
   "source": [
    "auto_select_accelerator()\n",
    "\n",
    "build_decoder(with_labels=True, target_size=(256, 256), ext='jpg')\n",
    "\n",
    "build_augmenter(with_labels=True)\n",
    "\n",
    "build_dataset(paths, labels=None, bsize=32, cache=True,\n",
    "              decode_fn=None, augment_fn=None,\n",
    "              augment=True, repeat=True, shuffle=1024, \n",
    "              cache_dir=\"\")"
   ]
  },
  {
   "cell_type": "code",
   "execution_count": 3,
   "metadata": {
    "execution": {
     "iopub.execute_input": "2021-02-24T16:33:47.565974Z",
     "iopub.status.busy": "2021-02-24T16:33:47.565440Z",
     "iopub.status.idle": "2021-02-24T16:33:47.568062Z",
     "shell.execute_reply": "2021-02-24T16:33:47.568454Z"
    },
    "papermill": {
     "duration": 0.026157,
     "end_time": "2021-02-24T16:33:47.568575",
     "exception": false,
     "start_time": "2021-02-24T16:33:47.542418",
     "status": "completed"
    },
    "tags": []
   },
   "outputs": [],
   "source": [
    "def auto_select_accelerator():\n",
    "    try:\n",
    "        tpu = tf.distribute.cluster_resolver.TPUClusterResolver()\n",
    "        tf.config.experimental_connect_to_cluster(tpu)\n",
    "        tf.tpu.experimental.initialize_tpu_system(tpu)\n",
    "        strategy = tf.distribute.experimental.TPUStrategy(tpu)\n",
    "        print(\"Running on TPU:\", tpu.master())\n",
    "    except ValueError:\n",
    "        strategy = tf.distribute.get_strategy()\n",
    "    print(f\"Running on {strategy.num_replicas_in_sync} replicas\")\n",
    "    \n",
    "    return strategy\n",
    "\n",
    "def build_decoder(with_labels=True, target_size=(300, 300), ext='jpg'):\n",
    "    def decode(path):\n",
    "        file_bytes = tf.io.read_file(path)\n",
    "        if ext == 'png':\n",
    "            img = tf.image.decode_png(file_bytes, channels=3)\n",
    "        elif ext in ['jpg', 'jpeg']:\n",
    "            img = tf.image.decode_jpeg(file_bytes, channels=3)\n",
    "        else:\n",
    "            raise ValueError(\"Image extension not supported\")\n",
    "\n",
    "        img = tf.cast(img, tf.float32) / 255.0\n",
    "        img = tf.image.resize(img, target_size)\n",
    "\n",
    "        return img\n",
    "    \n",
    "    def decode_with_labels(path, label):\n",
    "        return decode(path), label\n",
    "    \n",
    "    return decode_with_labels if with_labels else decode\n",
    "\n",
    "def build_augmenter(with_labels=True):\n",
    "    def augment(img):\n",
    "        img = tf.image.random_flip_left_right(img)\n",
    "        img = tf.image.random_flip_up_down(img)\n",
    "        return img\n",
    "    \n",
    "    def augment_with_labels(img, label):\n",
    "        return augment(img), label\n",
    "    \n",
    "    return augment_with_labels if with_labels else augment\n",
    "\n",
    "def build_dataset(paths, labels=None, bsize=32, cache=True,\n",
    "                  decode_fn=None, augment_fn=None,\n",
    "                  augment=True, repeat=True, shuffle=1024, \n",
    "                  cache_dir=\"\"):\n",
    "    if cache_dir != \"\" and cache is True:\n",
    "        os.makedirs(cache_dir, exist_ok=True)\n",
    "    \n",
    "    if decode_fn is None:\n",
    "        decode_fn = build_decoder(labels is not None)\n",
    "    \n",
    "    if augment_fn is None:\n",
    "        augment_fn = build_augmenter(labels is not None)\n",
    "    \n",
    "    AUTO = tf.data.experimental.AUTOTUNE\n",
    "    slices = paths if labels is None else (paths, labels)\n",
    "    dset = tf.data.Dataset.from_tensor_slices(slices)\n",
    "    dset = dset.map(decode_fn, num_parallel_calls=AUTO)\n",
    "    dset = dset.cache(cache_dir) if cache else dset\n",
    "    dset = dset.map(augment_fn, num_parallel_calls=AUTO) if augment else dset\n",
    "    dset = dset.repeat() if repeat else dset\n",
    "    dset = dset.shuffle(shuffle) if shuffle else dset\n",
    "    dset = dset.batch(bsize).prefetch(AUTO)\n",
    "    \n",
    "    return dset"
   ]
  },
  {
   "cell_type": "code",
   "execution_count": 4,
   "metadata": {
    "execution": {
     "iopub.execute_input": "2021-02-24T16:33:47.590484Z",
     "iopub.status.busy": "2021-02-24T16:33:47.589852Z",
     "iopub.status.idle": "2021-02-24T16:33:47.599854Z",
     "shell.execute_reply": "2021-02-24T16:33:47.599455Z"
    },
    "papermill": {
     "duration": 0.022175,
     "end_time": "2021-02-24T16:33:47.599959",
     "exception": false,
     "start_time": "2021-02-24T16:33:47.577784",
     "status": "completed"
    },
    "tags": []
   },
   "outputs": [
    {
     "name": "stdout",
     "output_type": "stream",
     "text": [
      "Running on 1 replicas\n"
     ]
    }
   ],
   "source": [
    "COMPETITION_NAME = \"ranzcr-clip-catheter-line-classification\"\n",
    "strategy = auto_select_accelerator()\n",
    "BATCH_SIZE = 10\n",
    "# GCS_DS_PATH = KaggleDatasets().get_gcs_path(COMPETITION_NAME)"
   ]
  },
  {
   "cell_type": "code",
   "execution_count": 5,
   "metadata": {
    "execution": {
     "iopub.execute_input": "2021-02-24T16:33:47.626047Z",
     "iopub.status.busy": "2021-02-24T16:33:47.625528Z",
     "iopub.status.idle": "2021-02-24T16:33:47.762960Z",
     "shell.execute_reply": "2021-02-24T16:33:47.762442Z"
    },
    "papermill": {
     "duration": 0.153496,
     "end_time": "2021-02-24T16:33:47.763093",
     "exception": false,
     "start_time": "2021-02-24T16:33:47.609597",
     "status": "completed"
    },
    "tags": []
   },
   "outputs": [],
   "source": [
    "load_dir = f\"/kaggle/input/{COMPETITION_NAME}/\"\n",
    "df = pd.read_csv(load_dir + 'train.csv')\n",
    "paths = load_dir + \"train/\" + df['StudyInstanceUID'] + '.jpg'\n",
    "\n",
    "sub_df = pd.read_csv(load_dir + 'sample_submission.csv')\n",
    "test_paths = load_dir + \"test/\" + sub_df['StudyInstanceUID'] + '.jpg'\n",
    "\n",
    "# Get the multi-labels\n",
    "label_cols = sub_df.columns[1:]\n",
    "labels = df[label_cols].values"
   ]
  },
  {
   "cell_type": "code",
   "execution_count": 6,
   "metadata": {
    "execution": {
     "iopub.execute_input": "2021-02-24T16:33:47.788904Z",
     "iopub.status.busy": "2021-02-24T16:33:47.788160Z",
     "iopub.status.idle": "2021-02-24T16:33:47.795330Z",
     "shell.execute_reply": "2021-02-24T16:33:47.795718Z"
    },
    "papermill": {
     "duration": 0.022574,
     "end_time": "2021-02-24T16:33:47.795888",
     "exception": false,
     "start_time": "2021-02-24T16:33:47.773314",
     "status": "completed"
    },
    "tags": []
   },
   "outputs": [],
   "source": [
    "# Train test split\n",
    "(\n",
    "    train_paths, valid_paths, \n",
    "    train_labels, valid_labels\n",
    ") = train_test_split(paths, labels, test_size=0.2, random_state=42)"
   ]
  },
  {
   "cell_type": "code",
   "execution_count": 7,
   "metadata": {
    "execution": {
     "iopub.execute_input": "2021-02-24T16:33:48.682330Z",
     "iopub.status.busy": "2021-02-24T16:33:47.821394Z",
     "iopub.status.idle": "2021-02-24T16:33:50.633647Z",
     "shell.execute_reply": "2021-02-24T16:33:50.632654Z"
    },
    "papermill": {
     "duration": 2.828028,
     "end_time": "2021-02-24T16:33:50.633784",
     "exception": false,
     "start_time": "2021-02-24T16:33:47.805756",
     "status": "completed"
    },
    "tags": []
   },
   "outputs": [],
   "source": [
    "# Build the tensorflow datasets\n",
    "IMSIZES = (224, 240, 260, 300, 380, 456, 528, 600)\n",
    "# index i corresponds to b-i\n",
    "size = IMSIZES[2]\n",
    "\n",
    "decoder = build_decoder(with_labels=True, target_size=(size, size))\n",
    "test_decoder = build_decoder(with_labels=False, target_size=(size, size))\n",
    "\n",
    "# Build the tensorflow datasets\n",
    "dtrain = build_dataset(\n",
    "    train_paths, train_labels, bsize=BATCH_SIZE, \n",
    "    cache_dir='/kaggle/tf_cache', decode_fn=decoder\n",
    ")\n",
    "dvalid = build_dataset(\n",
    "    valid_paths, valid_labels, bsize=BATCH_SIZE, \n",
    "    repeat=False, shuffle=False, augment=False, \n",
    "    cache_dir='/kaggle/tf_cache', decode_fn=decoder\n",
    ")\n",
    "\n",
    "dtest = build_dataset(\n",
    "    test_paths, bsize=BATCH_SIZE, repeat=False, \n",
    "    shuffle=False, augment=False, cache=False, \n",
    "    decode_fn=test_decoder\n",
    ")"
   ]
  },
  {
   "cell_type": "code",
   "execution_count": 8,
   "metadata": {
    "execution": {
     "iopub.execute_input": "2021-02-24T16:33:50.660488Z",
     "iopub.status.busy": "2021-02-24T16:33:50.659816Z",
     "iopub.status.idle": "2021-02-24T16:33:54.808260Z",
     "shell.execute_reply": "2021-02-24T16:33:54.807427Z"
    },
    "papermill": {
     "duration": 4.164059,
     "end_time": "2021-02-24T16:33:54.808429",
     "exception": false,
     "start_time": "2021-02-24T16:33:50.644370",
     "status": "completed"
    },
    "tags": []
   },
   "outputs": [
    {
     "name": "stdout",
     "output_type": "stream",
     "text": [
      "Model: \"sequential\"\n",
      "_________________________________________________________________\n",
      "Layer (type)                 Output Shape              Param #   \n",
      "=================================================================\n",
      "efficientnetb2 (Functional)  (None, 9, 9, 1408)        7768569   \n",
      "_________________________________________________________________\n",
      "global_average_pooling2d (Gl (None, 1408)              0         \n",
      "_________________________________________________________________\n",
      "dense (Dense)                (None, 11)                15499     \n",
      "=================================================================\n",
      "Total params: 7,784,068\n",
      "Trainable params: 7,716,493\n",
      "Non-trainable params: 67,575\n",
      "_________________________________________________________________\n"
     ]
    }
   ],
   "source": [
    "model_path = '../input/tfkeras-efficientnet-weights/efficientnetb2_notop.h5'  # imagenet\n",
    "n_labels = labels.shape[1]\n",
    "\n",
    "with strategy.scope():\n",
    "    model = tf.keras.Sequential([\n",
    "        efn.EfficientNetB2(\n",
    "            input_shape=(size, size, 3),\n",
    "            weights=model_path,\n",
    "            include_top=False,\n",
    "            drop_connect_rate=0.5),\n",
    "        tf.keras.layers.GlobalAveragePooling2D(),\n",
    "        tf.keras.layers.Dense(n_labels, activation='sigmoid')\n",
    "    ])\n",
    "    model.compile(\n",
    "        optimizer='adam',\n",
    "        loss='binary_crossentropy',\n",
    "        metrics=[tf.keras.metrics.AUC(multi_label=True)])\n",
    "    model.summary()"
   ]
  },
  {
   "cell_type": "code",
   "execution_count": 9,
   "metadata": {
    "execution": {
     "iopub.execute_input": "2021-02-24T16:33:54.836606Z",
     "iopub.status.busy": "2021-02-24T16:33:54.834919Z",
     "iopub.status.idle": "2021-02-24T16:33:54.837177Z",
     "shell.execute_reply": "2021-02-24T16:33:54.837564Z"
    },
    "papermill": {
     "duration": 0.018027,
     "end_time": "2021-02-24T16:33:54.837683",
     "exception": false,
     "start_time": "2021-02-24T16:33:54.819656",
     "status": "completed"
    },
    "tags": []
   },
   "outputs": [],
   "source": [
    "# ############### Train the model ###############\n",
    "steps_per_epoch = train_paths.shape[0] // BATCH_SIZE\n",
    "checkpoint = tf.keras.callbacks.ModelCheckpoint(\n",
    "    'model.h5', save_best_only=True, monitor='val_auc', mode='max')\n",
    "lr_reducer = tf.keras.callbacks.ReduceLROnPlateau(\n",
    "    monitor=\"val_auc\", patience=3, min_lr=1e-6, mode='max')"
   ]
  },
  {
   "cell_type": "code",
   "execution_count": 10,
   "metadata": {
    "execution": {
     "iopub.execute_input": "2021-02-24T16:33:54.864432Z",
     "iopub.status.busy": "2021-02-24T16:33:54.863796Z",
     "iopub.status.idle": "2021-02-24T19:35:48.137328Z",
     "shell.execute_reply": "2021-02-24T19:35:48.136776Z"
    },
    "papermill": {
     "duration": 10913.290051,
     "end_time": "2021-02-24T19:35:48.138303",
     "exception": false,
     "start_time": "2021-02-24T16:33:54.848252",
     "status": "completed"
    },
    "tags": []
   },
   "outputs": [
    {
     "name": "stdout",
     "output_type": "stream",
     "text": [
      "Epoch 1/20\n",
      "2406/2406 [==============================] - 2111s 838ms/step - loss: 0.2619 - auc: 0.7175 - val_loss: 0.4946 - val_auc: 0.5010\n",
      "Epoch 2/20\n",
      "2406/2406 [==============================] - 460s 191ms/step - loss: 0.2215 - auc: 0.7937 - val_loss: 1.2301 - val_auc: 0.5055\n",
      "Epoch 3/20\n",
      "2406/2406 [==============================] - 461s 191ms/step - loss: 0.2112 - auc: 0.8147 - val_loss: 0.4761 - val_auc: 0.5292\n",
      "Epoch 4/20\n",
      "2406/2406 [==============================] - 468s 195ms/step - loss: 0.2020 - auc: 0.8425 - val_loss: 0.3896 - val_auc: 0.5189\n",
      "Epoch 5/20\n",
      "2406/2406 [==============================] - 463s 192ms/step - loss: 0.1948 - auc: 0.8595 - val_loss: 0.4569 - val_auc: 0.5096\n",
      "Epoch 6/20\n",
      "2406/2406 [==============================] - 463s 193ms/step - loss: 0.1892 - auc: 0.8677 - val_loss: 0.5661 - val_auc: 0.5659\n",
      "Epoch 7/20\n",
      "2406/2406 [==============================] - 463s 192ms/step - loss: 0.1846 - auc: 0.8770 - val_loss: 0.4518 - val_auc: 0.4800\n",
      "Epoch 8/20\n",
      "2406/2406 [==============================] - 465s 193ms/step - loss: 0.1798 - auc: 0.8848 - val_loss: 0.4360 - val_auc: 0.4912\n",
      "Epoch 9/20\n",
      "2406/2406 [==============================] - 464s 193ms/step - loss: 0.1769 - auc: 0.8846 - val_loss: 0.4769 - val_auc: 0.5104\n",
      "Epoch 10/20\n",
      "2406/2406 [==============================] - 464s 193ms/step - loss: 0.1670 - auc: 0.9037 - val_loss: 3.4186 - val_auc: 0.4980\n",
      "Epoch 11/20\n",
      "2406/2406 [==============================] - 465s 193ms/step - loss: 0.1590 - auc: 0.9089 - val_loss: 0.4564 - val_auc: 0.4851\n",
      "Epoch 12/20\n",
      "2406/2406 [==============================] - 466s 194ms/step - loss: 0.1549 - auc: 0.9147 - val_loss: 1.1022 - val_auc: 0.5053\n",
      "Epoch 13/20\n",
      "2406/2406 [==============================] - 463s 192ms/step - loss: 0.1526 - auc: 0.9210 - val_loss: 0.1922 - val_auc: 0.8796\n",
      "Epoch 14/20\n",
      "2406/2406 [==============================] - 462s 192ms/step - loss: 0.1516 - auc: 0.9192 - val_loss: 0.4541 - val_auc: 0.6048\n",
      "Epoch 15/20\n",
      "2406/2406 [==============================] - 465s 193ms/step - loss: 0.1509 - auc: 0.9277 - val_loss: 0.4808 - val_auc: 0.5736\n",
      "Epoch 16/20\n",
      "2406/2406 [==============================] - 463s 193ms/step - loss: 0.1513 - auc: 0.9207 - val_loss: 0.2978 - val_auc: 0.7492\n",
      "Epoch 17/20\n",
      "2406/2406 [==============================] - 462s 192ms/step - loss: 0.1515 - auc: 0.9267 - val_loss: 0.1465 - val_auc: 0.9243\n",
      "Epoch 18/20\n",
      "2406/2406 [==============================] - 463s 193ms/step - loss: 0.1499 - auc: 0.9239 - val_loss: 0.1451 - val_auc: 0.9259\n",
      "Epoch 19/20\n",
      "2406/2406 [==============================] - 461s 192ms/step - loss: 0.1514 - auc: 0.9202 - val_loss: 0.1453 - val_auc: 0.9259\n",
      "Epoch 20/20\n",
      "2406/2406 [==============================] - 451s 187ms/step - loss: 0.1498 - auc: 0.9255 - val_loss: 0.1463 - val_auc: 0.9250\n"
     ]
    }
   ],
   "source": [
    "history = model.fit(\n",
    "    dtrain, \n",
    "    epochs=20,\n",
    "    verbose=1,\n",
    "    callbacks=[checkpoint, lr_reducer],\n",
    "    steps_per_epoch=steps_per_epoch,\n",
    "    validation_data=dvalid)"
   ]
  },
  {
   "cell_type": "code",
   "execution_count": 11,
   "metadata": {
    "execution": {
     "iopub.execute_input": "2021-02-24T19:36:14.485834Z",
     "iopub.status.busy": "2021-02-24T19:36:14.470491Z",
     "iopub.status.idle": "2021-02-24T19:36:14.785491Z",
     "shell.execute_reply": "2021-02-24T19:36:14.784452Z"
    },
    "papermill": {
     "duration": 13.601755,
     "end_time": "2021-02-24T19:36:14.785637",
     "exception": false,
     "start_time": "2021-02-24T19:36:01.183882",
     "status": "completed"
    },
    "tags": []
   },
   "outputs": [],
   "source": [
    "model.load_weights('model.h5')"
   ]
  },
  {
   "cell_type": "code",
   "execution_count": 12,
   "metadata": {
    "execution": {
     "iopub.execute_input": "2021-02-24T19:36:40.984715Z",
     "iopub.status.busy": "2021-02-24T19:36:40.984185Z",
     "iopub.status.idle": "2021-02-24T19:36:41.407542Z",
     "shell.execute_reply": "2021-02-24T19:36:41.406482Z"
    },
    "papermill": {
     "duration": 13.60539,
     "end_time": "2021-02-24T19:36:41.407685",
     "exception": false,
     "start_time": "2021-02-24T19:36:27.802295",
     "status": "completed"
    },
    "tags": []
   },
   "outputs": [],
   "source": [
    "hist_df = pd.DataFrame(history.history)\n",
    "hist_df.to_csv('history.csv')\n"
   ]
  },
  {
   "cell_type": "code",
   "execution_count": 13,
   "metadata": {
    "execution": {
     "iopub.execute_input": "2021-02-24T19:37:07.125740Z",
     "iopub.status.busy": "2021-02-24T19:37:07.124006Z",
     "iopub.status.idle": "2021-02-24T19:41:55.751160Z",
     "shell.execute_reply": "2021-02-24T19:41:55.741310Z"
    },
    "papermill": {
     "duration": 301.702211,
     "end_time": "2021-02-24T19:41:55.751332",
     "exception": false,
     "start_time": "2021-02-24T19:36:54.049121",
     "status": "completed"
    },
    "tags": []
   },
   "outputs": [
    {
     "name": "stdout",
     "output_type": "stream",
     "text": [
      "359/359 [==============================] - 280s 773ms/step\n"
     ]
    },
    {
     "data": {
      "text/html": [
       "<div>\n",
       "<style scoped>\n",
       "    .dataframe tbody tr th:only-of-type {\n",
       "        vertical-align: middle;\n",
       "    }\n",
       "\n",
       "    .dataframe tbody tr th {\n",
       "        vertical-align: top;\n",
       "    }\n",
       "\n",
       "    .dataframe thead th {\n",
       "        text-align: right;\n",
       "    }\n",
       "</style>\n",
       "<table border=\"1\" class=\"dataframe\">\n",
       "  <thead>\n",
       "    <tr style=\"text-align: right;\">\n",
       "      <th></th>\n",
       "      <th>StudyInstanceUID</th>\n",
       "      <th>ETT - Abnormal</th>\n",
       "      <th>ETT - Borderline</th>\n",
       "      <th>ETT - Normal</th>\n",
       "      <th>NGT - Abnormal</th>\n",
       "      <th>NGT - Borderline</th>\n",
       "      <th>NGT - Incompletely Imaged</th>\n",
       "      <th>NGT - Normal</th>\n",
       "      <th>CVC - Abnormal</th>\n",
       "      <th>CVC - Borderline</th>\n",
       "      <th>CVC - Normal</th>\n",
       "      <th>Swan Ganz Catheter Present</th>\n",
       "    </tr>\n",
       "  </thead>\n",
       "  <tbody>\n",
       "    <tr>\n",
       "      <th>0</th>\n",
       "      <td>1.2.826.0.1.3680043.8.498.46923145579096002617...</td>\n",
       "      <td>0.002774</td>\n",
       "      <td>0.247924</td>\n",
       "      <td>0.692558</td>\n",
       "      <td>0.008074</td>\n",
       "      <td>0.008186</td>\n",
       "      <td>0.012950</td>\n",
       "      <td>0.933195</td>\n",
       "      <td>0.011589</td>\n",
       "      <td>0.305120</td>\n",
       "      <td>0.983495</td>\n",
       "      <td>0.999777</td>\n",
       "    </tr>\n",
       "    <tr>\n",
       "      <th>1</th>\n",
       "      <td>1.2.826.0.1.3680043.8.498.84006870182611080091...</td>\n",
       "      <td>0.000008</td>\n",
       "      <td>0.000058</td>\n",
       "      <td>0.000188</td>\n",
       "      <td>0.000103</td>\n",
       "      <td>0.000156</td>\n",
       "      <td>0.000029</td>\n",
       "      <td>0.000770</td>\n",
       "      <td>0.035739</td>\n",
       "      <td>0.009350</td>\n",
       "      <td>0.978251</td>\n",
       "      <td>0.000011</td>\n",
       "    </tr>\n",
       "    <tr>\n",
       "      <th>2</th>\n",
       "      <td>1.2.826.0.1.3680043.8.498.12219033294413119947...</td>\n",
       "      <td>0.000008</td>\n",
       "      <td>0.000017</td>\n",
       "      <td>0.000034</td>\n",
       "      <td>0.000416</td>\n",
       "      <td>0.000160</td>\n",
       "      <td>0.000079</td>\n",
       "      <td>0.000016</td>\n",
       "      <td>0.019678</td>\n",
       "      <td>0.224111</td>\n",
       "      <td>0.806698</td>\n",
       "      <td>0.000042</td>\n",
       "    </tr>\n",
       "    <tr>\n",
       "      <th>3</th>\n",
       "      <td>1.2.826.0.1.3680043.8.498.84994474380235968109...</td>\n",
       "      <td>0.014100</td>\n",
       "      <td>0.014168</td>\n",
       "      <td>0.006583</td>\n",
       "      <td>0.042850</td>\n",
       "      <td>0.043270</td>\n",
       "      <td>0.859724</td>\n",
       "      <td>0.049405</td>\n",
       "      <td>0.338701</td>\n",
       "      <td>0.180411</td>\n",
       "      <td>0.687646</td>\n",
       "      <td>0.026714</td>\n",
       "    </tr>\n",
       "    <tr>\n",
       "      <th>4</th>\n",
       "      <td>1.2.826.0.1.3680043.8.498.35798987793805669662...</td>\n",
       "      <td>0.000048</td>\n",
       "      <td>0.000128</td>\n",
       "      <td>0.000049</td>\n",
       "      <td>0.001248</td>\n",
       "      <td>0.001826</td>\n",
       "      <td>0.000017</td>\n",
       "      <td>0.003213</td>\n",
       "      <td>0.011294</td>\n",
       "      <td>0.080163</td>\n",
       "      <td>0.955352</td>\n",
       "      <td>0.000006</td>\n",
       "    </tr>\n",
       "  </tbody>\n",
       "</table>\n",
       "</div>"
      ],
      "text/plain": [
       "                                    StudyInstanceUID  ETT - Abnormal  \\\n",
       "0  1.2.826.0.1.3680043.8.498.46923145579096002617...        0.002774   \n",
       "1  1.2.826.0.1.3680043.8.498.84006870182611080091...        0.000008   \n",
       "2  1.2.826.0.1.3680043.8.498.12219033294413119947...        0.000008   \n",
       "3  1.2.826.0.1.3680043.8.498.84994474380235968109...        0.014100   \n",
       "4  1.2.826.0.1.3680043.8.498.35798987793805669662...        0.000048   \n",
       "\n",
       "   ETT - Borderline  ETT - Normal  NGT - Abnormal  NGT - Borderline  \\\n",
       "0          0.247924      0.692558        0.008074          0.008186   \n",
       "1          0.000058      0.000188        0.000103          0.000156   \n",
       "2          0.000017      0.000034        0.000416          0.000160   \n",
       "3          0.014168      0.006583        0.042850          0.043270   \n",
       "4          0.000128      0.000049        0.001248          0.001826   \n",
       "\n",
       "   NGT - Incompletely Imaged  NGT - Normal  CVC - Abnormal  CVC - Borderline  \\\n",
       "0                   0.012950      0.933195        0.011589          0.305120   \n",
       "1                   0.000029      0.000770        0.035739          0.009350   \n",
       "2                   0.000079      0.000016        0.019678          0.224111   \n",
       "3                   0.859724      0.049405        0.338701          0.180411   \n",
       "4                   0.000017      0.003213        0.011294          0.080163   \n",
       "\n",
       "   CVC - Normal  Swan Ganz Catheter Present  \n",
       "0      0.983495                    0.999777  \n",
       "1      0.978251                    0.000011  \n",
       "2      0.806698                    0.000042  \n",
       "3      0.687646                    0.026714  \n",
       "4      0.955352                    0.000006  "
      ]
     },
     "execution_count": 13,
     "metadata": {},
     "output_type": "execute_result"
    }
   ],
   "source": [
    "sub_df[label_cols] = model.predict(dtest, verbose=1)\n",
    "sub_df.to_csv('submission.csv', index=False)\n",
    "\n",
    "sub_df.head()"
   ]
  },
  {
   "cell_type": "code",
   "execution_count": 14,
   "metadata": {
    "execution": {
     "iopub.execute_input": "2021-02-24T19:42:21.827724Z",
     "iopub.status.busy": "2021-02-24T19:42:21.825872Z",
     "iopub.status.idle": "2021-02-24T19:42:21.828356Z",
     "shell.execute_reply": "2021-02-24T19:42:21.828767Z"
    },
    "papermill": {
     "duration": 12.837199,
     "end_time": "2021-02-24T19:42:21.828908",
     "exception": false,
     "start_time": "2021-02-24T19:42:08.991709",
     "status": "completed"
    },
    "tags": []
   },
   "outputs": [],
   "source": [
    " from matplotlib import pyplot as plt "
   ]
  },
  {
   "cell_type": "code",
   "execution_count": 15,
   "metadata": {
    "execution": {
     "iopub.execute_input": "2021-02-24T19:42:48.442983Z",
     "iopub.status.busy": "2021-02-24T19:42:48.442260Z",
     "iopub.status.idle": "2021-02-24T19:42:48.887046Z",
     "shell.execute_reply": "2021-02-24T19:42:48.886606Z"
    },
    "papermill": {
     "duration": 13.509953,
     "end_time": "2021-02-24T19:42:48.887204",
     "exception": false,
     "start_time": "2021-02-24T19:42:35.377251",
     "status": "completed"
    },
    "tags": []
   },
   "outputs": [
    {
     "ename": "KeyError",
     "evalue": "'auc_1'",
     "output_type": "error",
     "traceback": [
      "\u001b[0;31m---------------------------------------------------------------------------\u001b[0m",
      "\u001b[0;31mKeyError\u001b[0m                                  Traceback (most recent call last)",
      "\u001b[0;32m/opt/conda/lib/python3.7/site-packages/pandas/core/indexes/base.py\u001b[0m in \u001b[0;36mget_loc\u001b[0;34m(self, key, method, tolerance)\u001b[0m\n\u001b[1;32m   2897\u001b[0m             \u001b[0;32mtry\u001b[0m\u001b[0;34m:\u001b[0m\u001b[0;34m\u001b[0m\u001b[0;34m\u001b[0m\u001b[0m\n\u001b[0;32m-> 2898\u001b[0;31m                 \u001b[0;32mreturn\u001b[0m \u001b[0mself\u001b[0m\u001b[0;34m.\u001b[0m\u001b[0m_engine\u001b[0m\u001b[0;34m.\u001b[0m\u001b[0mget_loc\u001b[0m\u001b[0;34m(\u001b[0m\u001b[0mcasted_key\u001b[0m\u001b[0;34m)\u001b[0m\u001b[0;34m\u001b[0m\u001b[0;34m\u001b[0m\u001b[0m\n\u001b[0m\u001b[1;32m   2899\u001b[0m             \u001b[0;32mexcept\u001b[0m \u001b[0mKeyError\u001b[0m \u001b[0;32mas\u001b[0m \u001b[0merr\u001b[0m\u001b[0;34m:\u001b[0m\u001b[0;34m\u001b[0m\u001b[0;34m\u001b[0m\u001b[0m\n",
      "\u001b[0;32mpandas/_libs/index.pyx\u001b[0m in \u001b[0;36mpandas._libs.index.IndexEngine.get_loc\u001b[0;34m()\u001b[0m\n",
      "\u001b[0;32mpandas/_libs/index.pyx\u001b[0m in \u001b[0;36mpandas._libs.index.IndexEngine.get_loc\u001b[0;34m()\u001b[0m\n",
      "\u001b[0;32mpandas/_libs/hashtable_class_helper.pxi\u001b[0m in \u001b[0;36mpandas._libs.hashtable.PyObjectHashTable.get_item\u001b[0;34m()\u001b[0m\n",
      "\u001b[0;32mpandas/_libs/hashtable_class_helper.pxi\u001b[0m in \u001b[0;36mpandas._libs.hashtable.PyObjectHashTable.get_item\u001b[0;34m()\u001b[0m\n",
      "\u001b[0;31mKeyError\u001b[0m: 'auc_1'",
      "\nThe above exception was the direct cause of the following exception:\n",
      "\u001b[0;31mKeyError\u001b[0m                                  Traceback (most recent call last)",
      "\u001b[0;32m<ipython-input-15-bc235e8ea464>\u001b[0m in \u001b[0;36m<module>\u001b[0;34m\u001b[0m\n\u001b[1;32m      5\u001b[0m \u001b[0mhist\u001b[0m\u001b[0;34m[\u001b[0m\u001b[0;34m'val_loss'\u001b[0m\u001b[0;34m]\u001b[0m\u001b[0;34m.\u001b[0m\u001b[0mplot\u001b[0m\u001b[0;34m(\u001b[0m\u001b[0max\u001b[0m\u001b[0;34m=\u001b[0m\u001b[0max1\u001b[0m\u001b[0;34m,\u001b[0m\u001b[0mc\u001b[0m\u001b[0;34m=\u001b[0m\u001b[0;34m'r'\u001b[0m\u001b[0;34m,\u001b[0m\u001b[0mlinestyle\u001b[0m\u001b[0;34m=\u001b[0m\u001b[0;34m'--'\u001b[0m\u001b[0;34m,\u001b[0m \u001b[0mlabel\u001b[0m\u001b[0;34m=\u001b[0m\u001b[0;34m'validation loss'\u001b[0m\u001b[0;34m)\u001b[0m\u001b[0;34m\u001b[0m\u001b[0;34m\u001b[0m\u001b[0m\n\u001b[1;32m      6\u001b[0m \u001b[0max1\u001b[0m\u001b[0;34m.\u001b[0m\u001b[0mlegend\u001b[0m\u001b[0;34m(\u001b[0m\u001b[0;34m)\u001b[0m\u001b[0;34m\u001b[0m\u001b[0;34m\u001b[0m\u001b[0m\n\u001b[0;32m----> 7\u001b[0;31m \u001b[0mhist\u001b[0m\u001b[0;34m[\u001b[0m\u001b[0;34m'auc_1'\u001b[0m\u001b[0;34m]\u001b[0m\u001b[0;34m.\u001b[0m\u001b[0mplot\u001b[0m\u001b[0;34m(\u001b[0m\u001b[0max\u001b[0m\u001b[0;34m=\u001b[0m\u001b[0max2\u001b[0m\u001b[0;34m,\u001b[0m\u001b[0mc\u001b[0m\u001b[0;34m=\u001b[0m\u001b[0;34m'k'\u001b[0m\u001b[0;34m,\u001b[0m\u001b[0mlabel\u001b[0m\u001b[0;34m=\u001b[0m\u001b[0;34m'training AUC'\u001b[0m\u001b[0;34m)\u001b[0m\u001b[0;34m\u001b[0m\u001b[0;34m\u001b[0m\u001b[0m\n\u001b[0m\u001b[1;32m      8\u001b[0m \u001b[0mhist\u001b[0m\u001b[0;34m[\u001b[0m\u001b[0;34m'val_auc_1'\u001b[0m\u001b[0;34m]\u001b[0m\u001b[0;34m.\u001b[0m\u001b[0mplot\u001b[0m\u001b[0;34m(\u001b[0m\u001b[0max\u001b[0m\u001b[0;34m=\u001b[0m\u001b[0max2\u001b[0m\u001b[0;34m,\u001b[0m\u001b[0mc\u001b[0m\u001b[0;34m=\u001b[0m\u001b[0;34m'r'\u001b[0m\u001b[0;34m,\u001b[0m\u001b[0mlinestyle\u001b[0m\u001b[0;34m=\u001b[0m\u001b[0;34m'--'\u001b[0m\u001b[0;34m,\u001b[0m\u001b[0mlabel\u001b[0m\u001b[0;34m=\u001b[0m\u001b[0;34m'validation AUC'\u001b[0m\u001b[0;34m)\u001b[0m\u001b[0;34m\u001b[0m\u001b[0;34m\u001b[0m\u001b[0m\n\u001b[1;32m      9\u001b[0m \u001b[0max2\u001b[0m\u001b[0;34m.\u001b[0m\u001b[0mlegend\u001b[0m\u001b[0;34m(\u001b[0m\u001b[0;34m)\u001b[0m\u001b[0;34m\u001b[0m\u001b[0;34m\u001b[0m\u001b[0m\n",
      "\u001b[0;32m/opt/conda/lib/python3.7/site-packages/pandas/core/frame.py\u001b[0m in \u001b[0;36m__getitem__\u001b[0;34m(self, key)\u001b[0m\n\u001b[1;32m   2904\u001b[0m             \u001b[0;32mif\u001b[0m \u001b[0mself\u001b[0m\u001b[0;34m.\u001b[0m\u001b[0mcolumns\u001b[0m\u001b[0;34m.\u001b[0m\u001b[0mnlevels\u001b[0m \u001b[0;34m>\u001b[0m \u001b[0;36m1\u001b[0m\u001b[0;34m:\u001b[0m\u001b[0;34m\u001b[0m\u001b[0;34m\u001b[0m\u001b[0m\n\u001b[1;32m   2905\u001b[0m                 \u001b[0;32mreturn\u001b[0m \u001b[0mself\u001b[0m\u001b[0;34m.\u001b[0m\u001b[0m_getitem_multilevel\u001b[0m\u001b[0;34m(\u001b[0m\u001b[0mkey\u001b[0m\u001b[0;34m)\u001b[0m\u001b[0;34m\u001b[0m\u001b[0;34m\u001b[0m\u001b[0m\n\u001b[0;32m-> 2906\u001b[0;31m             \u001b[0mindexer\u001b[0m \u001b[0;34m=\u001b[0m \u001b[0mself\u001b[0m\u001b[0;34m.\u001b[0m\u001b[0mcolumns\u001b[0m\u001b[0;34m.\u001b[0m\u001b[0mget_loc\u001b[0m\u001b[0;34m(\u001b[0m\u001b[0mkey\u001b[0m\u001b[0;34m)\u001b[0m\u001b[0;34m\u001b[0m\u001b[0;34m\u001b[0m\u001b[0m\n\u001b[0m\u001b[1;32m   2907\u001b[0m             \u001b[0;32mif\u001b[0m \u001b[0mis_integer\u001b[0m\u001b[0;34m(\u001b[0m\u001b[0mindexer\u001b[0m\u001b[0;34m)\u001b[0m\u001b[0;34m:\u001b[0m\u001b[0;34m\u001b[0m\u001b[0;34m\u001b[0m\u001b[0m\n\u001b[1;32m   2908\u001b[0m                 \u001b[0mindexer\u001b[0m \u001b[0;34m=\u001b[0m \u001b[0;34m[\u001b[0m\u001b[0mindexer\u001b[0m\u001b[0;34m]\u001b[0m\u001b[0;34m\u001b[0m\u001b[0;34m\u001b[0m\u001b[0m\n",
      "\u001b[0;32m/opt/conda/lib/python3.7/site-packages/pandas/core/indexes/base.py\u001b[0m in \u001b[0;36mget_loc\u001b[0;34m(self, key, method, tolerance)\u001b[0m\n\u001b[1;32m   2898\u001b[0m                 \u001b[0;32mreturn\u001b[0m \u001b[0mself\u001b[0m\u001b[0;34m.\u001b[0m\u001b[0m_engine\u001b[0m\u001b[0;34m.\u001b[0m\u001b[0mget_loc\u001b[0m\u001b[0;34m(\u001b[0m\u001b[0mcasted_key\u001b[0m\u001b[0;34m)\u001b[0m\u001b[0;34m\u001b[0m\u001b[0;34m\u001b[0m\u001b[0m\n\u001b[1;32m   2899\u001b[0m             \u001b[0;32mexcept\u001b[0m \u001b[0mKeyError\u001b[0m \u001b[0;32mas\u001b[0m \u001b[0merr\u001b[0m\u001b[0;34m:\u001b[0m\u001b[0;34m\u001b[0m\u001b[0;34m\u001b[0m\u001b[0m\n\u001b[0;32m-> 2900\u001b[0;31m                 \u001b[0;32mraise\u001b[0m \u001b[0mKeyError\u001b[0m\u001b[0;34m(\u001b[0m\u001b[0mkey\u001b[0m\u001b[0;34m)\u001b[0m \u001b[0;32mfrom\u001b[0m \u001b[0merr\u001b[0m\u001b[0;34m\u001b[0m\u001b[0;34m\u001b[0m\u001b[0m\n\u001b[0m\u001b[1;32m   2901\u001b[0m \u001b[0;34m\u001b[0m\u001b[0m\n\u001b[1;32m   2902\u001b[0m         \u001b[0;32mif\u001b[0m \u001b[0mtolerance\u001b[0m \u001b[0;32mis\u001b[0m \u001b[0;32mnot\u001b[0m \u001b[0;32mNone\u001b[0m\u001b[0;34m:\u001b[0m\u001b[0;34m\u001b[0m\u001b[0;34m\u001b[0m\u001b[0m\n",
      "\u001b[0;31mKeyError\u001b[0m: 'auc_1'"
     ]
    },
    {
     "data": {
      "image/png": "[encoded data removed]",
      "text/plain": [
       "<Figure size 864x864 with 2 Axes>"
      ]
     },
     "metadata": {
      "needs_background": "light"
     },
     "output_type": "display_data"
    }
   ],
   "source": [
    "plt.rcParams.update({'font.size': 16})\n",
    "hist = pd.DataFrame(history.history)\n",
    "fig, (ax1, ax2) = plt.subplots(figsize=(12,12),nrows=2, ncols=1)\n",
    "hist['loss'].plot(ax=ax1,c='k',label='training loss')\n",
    "hist['val_loss'].plot(ax=ax1,c='r',linestyle='--', label='validation loss')\n",
    "ax1.legend()\n",
    "hist['auc_1'].plot(ax=ax2,c='k',label='training AUC')\n",
    "hist['val_auc_1'].plot(ax=ax2,c='r',linestyle='--',label='validation AUC')\n",
    "ax2.legend()\n",
    "plt.show()"
   ]
  },
  {
   "cell_type": "code",
   "execution_count": null,
   "metadata": {
    "papermill": {
     "duration": 13.271632,
     "end_time": "2021-02-24T19:43:15.003431",
     "exception": false,
     "start_time": "2021-02-24T19:43:01.731799",
     "status": "completed"
    },
    "tags": []
   },
   "outputs": [],
   "source": []
  },
  {
   "cell_type": "markdown",
   "metadata": {
    "papermill": {
     "duration": 13.30033,
     "end_time": "2021-02-24T19:43:41.256645",
     "exception": false,
     "start_time": "2021-02-24T19:43:27.956315",
     "status": "completed"
    },
    "tags": []
   },
   "source": []
  }
 ],
 "metadata": {
  "kernelspec": {
   "display_name": "Python 3",
   "language": "python",
   "name": "python3"
  },
  "language_info": {
   "codemirror_mode": {
    "name": "ipython",
    "version": 3
   },
   "file_extension": ".py",
   "mimetype": "text/x-python",
   "name": "python",
   "nbconvert_exporter": "python",
   "pygments_lexer": "ipython3",
   "version": "3.7.9"
  },
  "papermill": {
   "default_parameters": {},
   "duration": 11421.60673,
   "end_time": "2021-02-24T19:43:58.105396",
   "environment_variables": {},
   "exception": null,
   "input_path": "__notebook__.ipynb",
   "output_path": "__notebook__.ipynb",
   "parameters": {},
   "start_time": "2021-02-24T16:33:36.498666",
   "version": "2.2.2"
  }
 },
 "nbformat": 4,
 "nbformat_minor": 4
}
